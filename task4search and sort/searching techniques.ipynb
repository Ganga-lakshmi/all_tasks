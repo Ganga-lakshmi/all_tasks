{
 "cells": [
  {
   "cell_type": "code",
   "execution_count": null,
   "metadata": {},
   "outputs": [],
   "source": [
    "#linear search\n",
    "n = int(input(\"enter array size:\"))\n",
    "arr=[]\n",
    "for i in range(0,n):\n",
    "    val= int(input(\"enter the \" +str(i)+ \" element\"))\n",
    "    arr.append(val)\n",
    "for i in arr:\n",
    "    print(i, end=\" \")\n",
    "ele = int(input(\"enter the element to search:\"))\n",
    "flag=0\n",
    "for i in range(n):\n",
    "    if(ele == arr[i]):\n",
    "        print(\"element found at position \",i)\n",
    "        flag=1\n",
    "if(flag==0):\n",
    "    print(\"element not found\")\n",
    "\n",
    "\n"
   ]
  },
  {
   "cell_type": "markdown",
   "metadata": {},
   "source": []
  },
  {
   "cell_type": "code",
   "execution_count": null,
   "metadata": {},
   "outputs": [],
   "source": [
    "#binary search\n",
    "def binary_search(arr , low,  high , ele):\n",
    "    if high >= low:\n",
    "        mid = low + (high - low)//2\n",
    "        if arr[mid] == ele:\n",
    "            return mid\n",
    "        elif arr[mid] > ele:\n",
    "            return binary_search(arr, low, mid-1 , ele)\n",
    "        else:\n",
    "            return binary_search(arr , mid+1 , high , ele)\n",
    "    else:\n",
    "        return -1\n",
    "    \n",
    "    \n",
    "### main function\n",
    "n = int(input(\"enter array size:\"))\n",
    "arr=[]\n",
    "for i in range(0,n):\n",
    "    val= int(input(\"enter the \" +str(i)+ \" element\"))\n",
    "    arr.append(val)\n",
    "    \n",
    "arr.sort()\n",
    "for i in arr:\n",
    "    print(i, end=\" \")\n",
    "ele = int(input(\"enter the element to search:\"))\n",
    "low =0\n",
    "high = n\n",
    "res = binary_search(arr, 0 , len(arr)-1, ele)\n",
    "\n",
    "if res!=-1:\n",
    "    print(\"element found at position -> \" + str(res))\n",
    "else:\n",
    "    print(\"element not found\")\n",
    "\n"
   ]
  },
  {
   "cell_type": "code",
   "execution_count": null,
   "metadata": {},
   "outputs": [],
   "source": []
  },
  {
   "cell_type": "code",
   "execution_count": null,
   "metadata": {},
   "outputs": [],
   "source": [
    "# problem 2 (2 numbers sum)\n",
    "\n",
    "arr = [1,2,3,4,5,6,7]\n",
    "k= int(input(\"enter the k value:\"))\n",
    "f=0\n",
    "for i in range(0,len(arr)):\n",
    "    for j in range(i+1 , len(arr)):\n",
    "        if(arr[i]+arr[j] == k):\n",
    "            f=1\n",
    "            print(arr[i] , end=\" \" )\n",
    "            print( arr[j], end=\" \")\n",
    "    \n",
    "if(f==0):\n",
    "    print(\"no sum is found\")\n"
   ]
  },
  {
   "cell_type": "code",
   "execution_count": null,
   "metadata": {},
   "outputs": [],
   "source": [
    "#count for duplicate elements:\n",
    "\n",
    "#arr = [1,1,2,2,3,4,5,6]\n",
    "n = int(input(\"enter array size:\"))\n",
    "count=1\n",
    "arr=[]\n",
    "for i in range(0,n):\n",
    "    val= int(input(\"enter the \" +str(i)+ \" element \"))\n",
    "    arr.append(val)\n",
    "for i in arr:\n",
    "    print(i, end=\" \")\n",
    "    \n",
    "    \n",
    "dict ={}\n",
    "for i in arr:\n",
    "    dict[i] = arr.count(i)\n",
    "    \n",
    "for i in arr:\n",
    "    if(dict[i] < 2):\n",
    "        del dict[i]\n",
    "        \n",
    "print(\"\\n\",dict)\n",
    "#print(dict)"
   ]
  },
  {
   "cell_type": "code",
   "execution_count": null,
   "metadata": {},
   "outputs": [],
   "source": []
  },
  {
   "cell_type": "code",
   "execution_count": 11,
   "metadata": {},
   "outputs": [
    {
     "name": "stdout",
     "output_type": "stream",
     "text": [
      "enter size of array 1:5\n",
      "enter size of array 2:4\n",
      "enter array 1 elements of index 0: 1\n",
      "enter array 1 elements of index 1: 2\n",
      "enter array 1 elements of index 2: 3\n",
      "enter array 1 elements of index 3: 4\n",
      "enter array 1 elements of index 4: 5\n",
      "enter array 2 elements of index 0: 2\n",
      "enter array 2 elements of index 1: 3\n",
      "enter array 2 elements of index 2: 6\n",
      "enter array 2 elements of index 3: 7\n",
      "array 1 :\n",
      "1 2 3 4 5 \n",
      " array 2:\n",
      "2 3 6 7 \n",
      " union of two arrays: [1 2 3 4 5 6 7]\n",
      "intersection of two arrays: [2 3]\n",
      "difference a-b: [1 4 5]\n",
      "difference b-a: [6 7]\n"
     ]
    }
   ],
   "source": [
    "#SET OPERATIONS ON ARRAY\n",
    "\n",
    "import numpy\n",
    "n=int(input(\"enter size of array 1:\"))\n",
    "m=int(input(\"enter size of array 2:\"))\n",
    "arr=[]\n",
    "brr=[]\n",
    "for i in range(n): \n",
    "    arr.append(int(input(\"enter array 1 elements of index \"+str(i)+\": \")))\n",
    "for i in range(m):\n",
    "    brr.append(int(input(\"enter array 2 elements of index \"+str(i)+\": \")))\n",
    "    \n",
    "arr = numpy.array(arr)\n",
    "brr = numpy.array(brr)\n",
    "print(\"array 1 :\")\n",
    "for i in arr:\n",
    "    print(i,end=\" \")\n",
    "    \n",
    "print(\"\\n array 2:\")\n",
    "for j in brr:\n",
    "    print(j,end=\" \")\n",
    "    \n",
    "    \n",
    "#umion1d:\n",
    "union = numpy.union1d(arr,brr)\n",
    "print(\"\\n union of two arrays:\",union)\n",
    "\n",
    "#intersection:\n",
    "intersect = numpy.intersect1d(arr, brr)\n",
    "print(\"intersection of two arrays:\",intersect)\n",
    "\n",
    "#setdifference:\n",
    "diff = numpy.setdiff1d(arr,brr)\n",
    "print(\"difference a-b:\",diff)\n",
    "\n",
    "diff2 = numpy.setdiff1d(brr, arr)\n",
    "print(\"difference b-a:\",diff2)"
   ]
  },
  {
   "cell_type": "code",
   "execution_count": null,
   "metadata": {},
   "outputs": [],
   "source": [
    "\n"
   ]
  },
  {
   "cell_type": "code",
   "execution_count": 25,
   "metadata": {},
   "outputs": [
    {
     "name": "stdout",
     "output_type": "stream",
     "text": [
      "enter array size:5\n",
      "enter the 0 element4\n",
      "enter the 1 element3\n",
      "enter the 2 element2\n",
      "enter the 3 element3\n",
      "enter the 4 element4\n",
      "4 3 2 3 4 \n",
      "sorted array is:\n",
      "2 3 3 4 4 "
     ]
    }
   ],
   "source": [
    "#BUBBLE SORT\n",
    "n = int(input(\"enter array size:\"))\n",
    "arr=[]\n",
    "for i in range(0,n):\n",
    "    val= int(input(\"enter the \" +str(i)+ \" element\"))\n",
    "    arr.append(val)\n",
    "for i in arr:\n",
    "    print(i, end=\" \")\n",
    "\n",
    "    \n",
    "for j in range(0,n,1):\n",
    "\n",
    "    for i in range(0,n-j-1,1):\n",
    "        if(arr[i]>arr[i+1]):\n",
    "            temp = arr[i]\n",
    "            arr[i]=arr[i+1]\n",
    "            arr[i+1] = temp\n",
    "print(\"\\nsorted array is:\")\n",
    "for i in arr:\n",
    "    print(i,end=\" \")\n",
    "        "
   ]
  },
  {
   "cell_type": "code",
   "execution_count": 34,
   "metadata": {},
   "outputs": [
    {
     "name": "stdout",
     "output_type": "stream",
     "text": [
      "enter array size:7\n",
      "enter the 0 element2\n",
      "enter the 1 element3\n",
      "enter the 2 element1\n",
      "enter the 3 element2\n",
      "enter the 4 element3\n",
      "enter the 5 element4\n",
      "enter the 6 element5\n",
      "2 3 1 2 3 4 5 \n",
      "sorted array is:\n",
      "1 2 2 3 3 4 5 "
     ]
    }
   ],
   "source": [
    "#INSERTION SORT\n",
    "n = int(input(\"enter array size:\"))\n",
    "arr=[]\n",
    "for i in range(0,n):\n",
    "    val= int(input(\"enter the \" +str(i)+ \" element\"))\n",
    "    arr.append(val)\n",
    "for i in arr:\n",
    "    print(i, end=\" \")\n",
    "\n",
    "for i in range(1, n):\n",
    "        \n",
    "        j = i - 1\n",
    "        k= arr[i]\n",
    "        \n",
    "        while j >= 0 and k < arr[j]:\n",
    "            arr[j + 1] = arr[j]\n",
    "            j = j - 1\n",
    "        arr[j + 1] = k\n",
    "#not swapping just placing the values\n",
    "\n",
    "print(\"\\nsorted array is:\")\n",
    "for i in arr:\n",
    "    print(i,end=\" \")\n"
   ]
  },
  {
   "cell_type": "code",
   "execution_count": null,
   "metadata": {},
   "outputs": [],
   "source": []
  }
 ],
 "metadata": {
  "kernelspec": {
   "display_name": "Python 3",
   "language": "python",
   "name": "python3"
  },
  "language_info": {
   "codemirror_mode": {
    "name": "ipython",
    "version": 3
   },
   "file_extension": ".py",
   "mimetype": "text/x-python",
   "name": "python",
   "nbconvert_exporter": "python",
   "pygments_lexer": "ipython3",
   "version": "3.8.5"
  }
 },
 "nbformat": 4,
 "nbformat_minor": 4
}
