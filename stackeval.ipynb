{
 "cells": [
  {
   "cell_type": "code",
   "execution_count": 2,
   "metadata": {},
   "outputs": [
    {
     "name": "stdout",
     "output_type": "stream",
     "text": [
      "enter an expression:5+4-6*2/1%1\n",
      "given infix: 5+4-6*2/1%1 \n",
      " postfix: 54+62*1/1%-\n",
      "[9]\n",
      "[9, 12]\n",
      "[9, 12.0]\n",
      "[9, 0.0]\n",
      "[9.0]\n",
      "final result: 9.0\n"
     ]
    }
   ],
   "source": [
    "#postfix expression \n",
    "operator=['+','-','*','/','^','%']\n",
    "precidence={'+':1, '-':1, '*':2, '/':2, '%':2 ,'^':3}\n",
    "def postfixexp(exp):\n",
    "    stack=[]\n",
    "    op=''\n",
    "    for i in exp:\n",
    "        if(i not in operator):\n",
    "            op=op+i\n",
    "        else:\n",
    "            while(stack  and precidence[i]<=precidence[stack[-1]]):\n",
    "                op=op+stack.pop()\n",
    "            stack.append(i)\n",
    "    while(stack):\n",
    "        op=op+stack.pop()\n",
    "    return op\n",
    "#evalution...\n",
    "\n",
    "def evalpost(expres):\n",
    "    stack=[]\n",
    "    for i in expres:\n",
    "        if i.isdigit():\n",
    "            stack.append(int(i))\n",
    "        else:\n",
    "            t1=stack.pop()\n",
    "            t2=stack.pop()\n",
    "            \n",
    "            if(i=='+'):\n",
    "                stack.append(t1+t2)\n",
    "                print(stack)\n",
    "            elif(i=='-'):\n",
    "                stack.append(t2-t1)\n",
    "                print(stack)\n",
    "            elif(i=='*'):\n",
    "                stack.append(t2*t1)\n",
    "                print(stack)\n",
    "            elif(i=='/'):\n",
    "                stack.append(t2/t1)\n",
    "                print(stack)\n",
    "            elif(i=='^'):\n",
    "                stack.append(t2^t1)\n",
    "            elif(i=='%'):\n",
    "                stack.append(t2%t1)\n",
    "                print(stack)\n",
    "            else:\n",
    "                print(\" no such type of operator found.. \")\n",
    "    return stack.pop()\n",
    "            \n",
    "  \n",
    "\n",
    "\n",
    "\n",
    "\n",
    "\n",
    "\n",
    "exp=input(\"enter an expression:\")\n",
    "postfixexp=postfixexp(exp)\n",
    "print(\"given infix:\",exp,\"\\n postfix:\",postfixexp)\n",
    "#now postfix evaluation\n",
    "print(\"final result:\",evalpost(postfixexp))\n"
   ]
  },
  {
   "cell_type": "code",
   "execution_count": null,
   "metadata": {},
   "outputs": [],
   "source": []
  }
 ],
 "metadata": {
  "kernelspec": {
   "display_name": "Python 3",
   "language": "python",
   "name": "python3"
  },
  "language_info": {
   "codemirror_mode": {
    "name": "ipython",
    "version": 3
   },
   "file_extension": ".py",
   "mimetype": "text/x-python",
   "name": "python",
   "nbconvert_exporter": "python",
   "pygments_lexer": "ipython3",
   "version": "3.8.5"
  }
 },
 "nbformat": 4,
 "nbformat_minor": 4
}
